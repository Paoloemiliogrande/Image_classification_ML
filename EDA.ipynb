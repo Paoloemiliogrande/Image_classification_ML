{
 "cells": [
  {
   "cell_type": "markdown",
   "metadata": {},
   "source": [
    "# **REPLY** - Image Classification\n",
    "\n",
    "### **Overview**\n",
    "This project is part of the coursework for Machine Learning, focusing on the application of machine learning techniques for the classification of scanned document images into predefined categories. Our objective is to develop a model capable of accurately identifying the type of document from a set of scanned images. This involves a comprehensive process starting from data analysis to model evaluation, aiming to achieve high accuracy and robustness in classification tasks.\n",
    "\n",
    "### **Project Description**\n",
    "The task involves constructing a machine learning model to classify scanned documents into four distinct categories: resumes, advertisements, emails, and handwritten documents. The dataset comprises 2000 images in TIFF format, requiring thorough preprocessing and analysis to ensure optimal model performance. Key stages of the project include data cleaning, model selection, hyperparameter tuning, and performance evaluation.\n",
    "\n",
    "### **Dataset**\n",
    "The dataset features 2000 scanned document images in .tif format, categorized into four classes:\n",
    "* Resumes\n",
    "* Advertisements\n",
    "* Emails\n",
    "* Handwritten documents\n",
    "\n",
    "## This Project is held by Group 5\n",
    "- Elisa Dobici elisa.dobici@studenti.luiss.it 785171\n",
    "- Joshua Brauner joshua.brauner@studenti.luiss.it 778931\n",
    "- Paoloemilio Grande paoloemilio.grande@studenti.luiss.it 788661"
   ]
  },
  {
   "cell_type": "markdown",
   "metadata": {},
   "source": [
    "### EDA\n",
    "Perform an in-depth analysis of the dataset to understand its structure, quality, and any preprocessing needs."
   ]
  },
  {
   "cell_type": "code",
   "execution_count": 106,
   "metadata": {},
   "outputs": [],
   "source": [
    "#importing dependencies\n",
    "import tensorflow as tf\n",
    "from tensorflow.keras.preprocessing.image import ImageDataGenerator\n",
    "import os\n",
    "import cv2\n",
    "import imghdr #non penso serva\n",
    "import numpy as np\n",
    "from matplotlib import pyplot as plt\n",
    "from PIL import Image\n",
    "from skimage import io"
   ]
  },
  {
   "cell_type": "code",
   "execution_count": 107,
   "metadata": {},
   "outputs": [
    {
     "name": "stdout",
     "output_type": "stream",
     "text": [
      "In this directory there are:  2442  images.\n"
     ]
    }
   ],
   "source": [
    "#Setting directory\n",
    "data_dir = 'Data'\n",
    "\n",
    "#Counting number of images\n",
    "print(\"In this directory there are: \",len(os.listdir(data_dir)), \" images.\")"
   ]
  },
  {
   "cell_type": "code",
   "execution_count": 108,
   "metadata": {},
   "outputs": [],
   "source": [
    "#Removing dodgy images\n",
    "valid_ext = 'tiff'\n",
    "\n",
    "# Iterate over the images in the directory\n",
    "for image in os.listdir(data_dir):\n",
    "    image_path = os.path.join(data_dir, image)\n",
    "    try:\n",
    "        # Check the file extension\n",
    "        if not image.lower().endswith('.tif'):\n",
    "            print(f'Image not in .tif format: {image_path}')\n",
    "            continue\n",
    "        \n",
    "        # Use imghdr to verify the image format\n",
    "        img_type = imghdr.what(image_path)\n",
    "        if img_type != valid_ext:\n",
    "            print(f'Image not in .tif format: {image_path}')\n",
    "            # If you want to remove the non-tif files, uncomment the next line\n",
    "            # os.remove(image_path)\n",
    "    except Exception as e:\n",
    "        print(f'Issue with image {image_path}: {e}')\n"
   ]
  },
  {
   "cell_type": "code",
   "execution_count": 109,
   "metadata": {},
   "outputs": [
    {
     "name": "stdout",
     "output_type": "stream",
     "text": [
      "In this directory there are:  2442  images.\n"
     ]
    }
   ],
   "source": [
    "#Counting number of images\n",
    "print(\"In this directory there are: \",len(os.listdir(data_dir)), \" images.\")"
   ]
  },
  {
   "cell_type": "markdown",
   "metadata": {},
   "source": [
    "### ANALYZING IMAGE SIZE"
   ]
  },
  {
   "cell_type": "code",
   "execution_count": null,
   "metadata": {},
   "outputs": [],
   "source": [
    "def analyze_image_sizes(data_dir):\n",
    "    sizes = []\n",
    "    for image_name in os.listdir(data_dir):\n",
    "        if image_name.lower().endswith('.tif'):\n",
    "            image_path = os.path.join(data_dir, image_name)\n",
    "            with Image.open(image_path) as img:\n",
    "                sizes.append(img.size)  # size is in (width, height) format\n",
    "    return sizes"
   ]
  },
  {
   "cell_type": "markdown",
   "metadata": {},
   "source": [
    "### DETERMINE IF BLACK AND WHITE OR RGB"
   ]
  },
  {
   "cell_type": "code",
   "execution_count": null,
   "metadata": {},
   "outputs": [],
   "source": [
    "#Determine if image is grayscale or RGB\n",
    "def analyze_image_colors(data_dir):\n",
    "    color_modes = {'L': 0, 'RGB': 0, 'Other': 0}\n",
    "    for image_name in os.listdir(data_dir):\n",
    "        if image_name.lower().endswith('.tif'):\n",
    "            image_path = os.path.join(data_dir, image_name)\n",
    "            with Image.open(image_path) as img:\n",
    "                if img.mode in color_modes:\n",
    "                    color_modes[img.mode] += 1\n",
    "                else:\n",
    "                    color_modes['Other'] += 1\n",
    "    return color_modes"
   ]
  },
  {
   "cell_type": "markdown",
   "metadata": {},
   "source": [
    "### COMPUTING BRIGHTNESS LEVELS"
   ]
  },
  {
   "cell_type": "code",
   "execution_count": null,
   "metadata": {},
   "outputs": [],
   "source": [
    "#Calculating brightness\n",
    "def calculate_brightness(image):\n",
    "    grayscale_image = image.convert('L')  # Convert image to grayscale\n",
    "    image_array = np.array(grayscale_image)  # Convert to numpy array\n",
    "    brightness = np.mean(image_array)  # Calculate mean\n",
    "    return brightness\n",
    "\n",
    "def analyze_brightness_levels(data_dir):\n",
    "    brightness_levels = []\n",
    "    for image_name in os.listdir(data_dir):\n",
    "        if image_name.lower().endswith('.tif'):\n",
    "            image_path = os.path.join(data_dir, image_name)\n",
    "            try:\n",
    "                with Image.open(image_path) as img:\n",
    "                    brightness_levels.append(calculate_brightness(img))\n",
    "            except Exception as e:\n",
    "                print(f\"Cannot process image {image_path}: {e}\")\n",
    "    return brightness_levels"
   ]
  },
  {
   "cell_type": "markdown",
   "metadata": {},
   "source": [
    "### IDENTIFYING CORRUPTED IMAGES"
   ]
  },
  {
   "cell_type": "code",
   "execution_count": null,
   "metadata": {},
   "outputs": [],
   "source": [
    "def analyze_corrupted_images(data_dir):\n",
    "    corrupted = []\n",
    "    for image_name in os.listdir(data_dir):\n",
    "        if image_name.lower().endswith('.tif'):\n",
    "            image_path = os.path.join(data_dir, image_name)\n",
    "            try:\n",
    "                with Image.open(image_path) as img:\n",
    "                    # Checking if the image is completely black or white\n",
    "                    if np.all(np.array(img) == 0) or np.all(np.array(img) == 255):\n",
    "                        corrupted.append(image_name)\n",
    "            except Exception as e:\n",
    "                print(f\"Cannot process image {image_path}: {e}\")\n",
    "                corrupted.append(image_name)  # Adding the name of the image that failed to open\n",
    "    return corrupted"
   ]
  },
  {
   "cell_type": "markdown",
   "metadata": {},
   "source": [
    "# DA QUI IN POI PROBABILMENTE NON FUNZIONANO I CODICI"
   ]
  },
  {
   "cell_type": "code",
   "execution_count": 15,
   "metadata": {},
   "outputs": [
    {
     "data": {
      "text/plain": [
       "'#Changing format to images, we should decide if it\\'s better to use .tif or .jpg\\n\\n# Directory containing the .tif files\\ntiff_directory = \\'Data\\'\\n# Directory where you want to save the .jpg files\\njpg_directory = \\'Data jpg\\'\\n\\n# Create the jpg directory if it doesn\\'t exist\\nif not os.path.exists(jpg_directory):\\n    os.makedirs(jpg_directory)\\n\\n# Loop through all the .tif files in the directory\\nfor tiff_file in os.listdir(tiff_directory):\\n    if tiff_file.endswith(\\'.tif\\'):\\n        # Construct the full file path\\n        tiff_file_path = os.path.join(tiff_directory, tiff_file)\\n        # Open the .tif file\\n        with Image.open(tiff_file_path) as image:\\n            # Remove the file extension and add .jpg\\n            jpg_file_name = os.path.splitext(tiff_file)[0] + \\'.jpg\\'\\n            # Construct the full path for the .jpg file\\n            jpg_file_path = os.path.join(jpg_directory, jpg_file_name)\\n            # Convert the image to RGB mode (JPEG doesn\\'t support alpha channel as in RGBA)\\n            rgb_image = image.convert(\\'RGB\\')\\n            # Save the image in JPEG format\\n            rgb_image.save(jpg_file_path, \\'JPEG\\')\\n\\nprint(\"Conversion from TIFF to JPEG completed!\")\\n'"
      ]
     },
     "execution_count": 15,
     "metadata": {},
     "output_type": "execute_result"
    }
   ],
   "source": [
    "\"\"\"#Changing format to images, we should decide if it's better to use .tif or .jpg\n",
    "\n",
    "# Directory containing the .tif files\n",
    "tiff_directory = 'Data'\n",
    "# Directory where you want to save the .jpg files\n",
    "jpg_directory = 'Data jpg'\n",
    "\n",
    "# Create the jpg directory if it doesn't exist\n",
    "if not os.path.exists(jpg_directory):\n",
    "    os.makedirs(jpg_directory)\n",
    "\n",
    "# Loop through all the .tif files in the directory\n",
    "for tiff_file in os.listdir(tiff_directory):\n",
    "    if tiff_file.endswith('.tif'):\n",
    "        # Construct the full file path\n",
    "        tiff_file_path = os.path.join(tiff_directory, tiff_file)\n",
    "        # Open the .tif file\n",
    "        with Image.open(tiff_file_path) as image:\n",
    "            # Remove the file extension and add .jpg\n",
    "            jpg_file_name = os.path.splitext(tiff_file)[0] + '.jpg'\n",
    "            # Construct the full path for the .jpg file\n",
    "            jpg_file_path = os.path.join(jpg_directory, jpg_file_name)\n",
    "            # Convert the image to RGB mode (JPEG doesn't support alpha channel as in RGBA)\n",
    "            rgb_image = image.convert('RGB')\n",
    "            # Save the image in JPEG format\n",
    "            rgb_image.save(jpg_file_path, 'JPEG')\n",
    "\n",
    "print(\"Conversion from TIFF to JPEG completed!\")\n",
    "\"\"\""
   ]
  },
  {
   "cell_type": "code",
   "execution_count": 100,
   "metadata": {},
   "outputs": [
    {
     "name": "stdout",
     "output_type": "stream",
     "text": [
      "Found 2442 images belonging to 1 classes.\n"
     ]
    },
    {
     "data": {
      "text/plain": [
       "'\\n# You can then use data_gen as an iterator to get your images\\n# For example, to get the first image:\\nimage = next(data_gen)\\n'"
      ]
     },
     "execution_count": 100,
     "metadata": {},
     "output_type": "execute_result"
    }
   ],
   "source": [
    "\"\"\"data_dir = 'Data'\n",
    "\n",
    "# Initialize the data generator with no augmentation, just rescaling\n",
    "datagen = ImageDataGenerator(rescale=1./255)\n",
    "\n",
    "# Create a generator that will read the images found at the directory, and indefinitely generate\n",
    "# batches of image data (in this case, it will be batches of a single image)\n",
    "data_gen = datagen.flow_from_directory(\n",
    "    directory=data_dir,\n",
    "    classes=['.'],  # Treat current directory as containing all images of a single class\n",
    "    batch_size=4,  # You can set this to any size you want depending on how many images you want to load at once\n",
    "    target_size=(256, 256),  # Resize images on the fly to a specified size\n",
    "    class_mode=None,  # Because we know we don't have labeled data\n",
    "    shuffle=False  # Since order might be important, it's turned off\n",
    ")\n",
    "\n",
    "# You can then use data_gen as an iterator to get your images\n",
    "# For example, to get the first image:\n",
    "image = next(data_gen)\n",
    "\"\"\""
   ]
  }
 ],
 "metadata": {
  "kernelspec": {
   "display_name": "Python 3",
   "language": "python",
   "name": "python3"
  },
  "language_info": {
   "codemirror_mode": {
    "name": "ipython",
    "version": 3
   },
   "file_extension": ".py",
   "mimetype": "text/x-python",
   "name": "python",
   "nbconvert_exporter": "python",
   "pygments_lexer": "ipython3",
   "version": "3.12.0"
  }
 },
 "nbformat": 4,
 "nbformat_minor": 2
}
