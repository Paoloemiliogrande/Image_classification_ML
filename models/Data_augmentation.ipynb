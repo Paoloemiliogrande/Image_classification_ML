{
 "cells": [
  {
   "cell_type": "markdown",
   "metadata": {},
   "source": [
    "# TESTING OUR MODEL ON UNSEEN DATA\n",
    "\n",
    "## - You can find the weights of our models in the relative folder of the GitHub repository: **\"model_weights\"**.\n",
    "## - Then, just load the model and apply to the data you wish. "
   ]
  },
  {
   "cell_type": "code",
   "execution_count": null,
   "metadata": {},
   "outputs": [],
   "source": [
    "import numpy as np\n",
    "from tensorflow.keras.models import load_model\n",
    "from tensorflow.keras.preprocessing.image import ImageDataGenerator"
   ]
  },
  {
   "cell_type": "code",
   "execution_count": null,
   "metadata": {},
   "outputs": [],
   "source": [
    "# Load the model you want\n",
    "model = load_model('PUT THE MODEL YOU WANT TO LOAD FROM GITHUB HERE')"
   ]
  },
  {
   "cell_type": "code",
   "execution_count": 2,
   "metadata": {},
   "outputs": [
    {
     "name": "stdout",
     "output_type": "stream",
     "text": [
      "Found 11996 images belonging to 4 classes.\n"
     ]
    }
   ],
   "source": [
    "data_gen = ImageDataGenerator(\n",
    "    rotation_range=20,\n",
    "    width_shift_range=0.2,\n",
    "    height_shift_range=0.2,\n",
    "    shear_range=0.15,\n",
    "    zoom_range=0.15,\n",
    "    horizontal_flip=True,\n",
    "    fill_mode='nearest'\n",
    ")\n",
    "\n",
    "test_datagen = ImageDataGenerator(rescale=1./255)\n",
    "\n",
    "test_generator = test_datagen.flow_from_directory(\n",
    "    \"PATH FOR YOUR TEST DIRECTORY HERE\",\n",
    "    target_size=(150, 150),\n",
    "    batch_size=32,\n",
    "    class_mode='categorical',\n",
    "    color_mode='grayscale',\n",
    "    shuffle=False)"
   ]
  },
  {
   "cell_type": "code",
   "execution_count": 3,
   "metadata": {},
   "outputs": [
    {
     "name": "stderr",
     "output_type": "stream",
     "text": [
      "/Library/Frameworks/Python.framework/Versions/3.12/lib/python3.12/site-packages/keras/src/trainers/data_adapters/py_dataset_adapter.py:122: UserWarning: Your `PyDataset` class should call `super().__init__(**kwargs)` in its constructor. `**kwargs` can include `workers`, `use_multiprocessing`, `max_queue_size`. Do not pass these arguments to `fit()`, as they will be ignored.\n",
      "  self._warn_if_super_not_called()\n"
     ]
    },
    {
     "name": "stdout",
     "output_type": "stream",
     "text": [
      "\u001b[1m375/375\u001b[0m \u001b[32m━━━━━━━━━━━━━━━━━━━━\u001b[0m\u001b[37m\u001b[0m \u001b[1m197s\u001b[0m 522ms/step\n",
      "Number of successes: 9301\n",
      "Number of errors: 2695\n",
      "Error rate: 0.22465821940646882\n"
     ]
    }
   ],
   "source": [
    "# This part of the notebook is used to reset the test generator, to perform the prediction and to summarize the results of the prediction.\n",
    "test_generator.reset()\n",
    "\n",
    "predictions = model.predict(test_generator, verbose=1)\n",
    "\n",
    "predicted_classes_indices = np.argmax(predictions, axis=1)\n",
    "\n",
    "true_classes = test_generator.classes\n",
    "\n",
    "class_labels = list(test_generator.class_indices.keys())\n",
    "\n",
    "count_true = np.sum(predicted_classes_indices == true_classes)\n",
    "count_false = len(true_classes) - count_true\n",
    "\n",
    "error_rate = count_false / len(true_classes)\n",
    "\n",
    "print(\"Number of successes:\", count_true)\n",
    "print(\"Number of errors:\", count_false)\n",
    "print(\"Error rate:\", error_rate)"
   ]
  }
 ],
 "metadata": {
  "kernelspec": {
   "display_name": "Python 3",
   "language": "python",
   "name": "python3"
  },
  "language_info": {
   "codemirror_mode": {
    "name": "ipython",
    "version": 3
   },
   "file_extension": ".py",
   "mimetype": "text/x-python",
   "name": "python",
   "nbconvert_exporter": "python",
   "pygments_lexer": "ipython3",
   "version": "3.12.0"
  }
 },
 "nbformat": 4,
 "nbformat_minor": 2
}
